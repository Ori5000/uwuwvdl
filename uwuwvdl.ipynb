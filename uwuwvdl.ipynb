{
  "nbformat": 4,
  "nbformat_minor": 0,
  "metadata": {
    "colab": {
      "name": "wideL.ipynb",
      "provenance": []
    },
    "kernelspec": {
      "display_name": "Python 3",
      "name": "python3"
    },
    "language_info": {
      "name": "python"
    }
  },
  "cells": [
    {
      "cell_type": "code",
      "metadata": {
        "id": "G7B5HeMK1MjC",
        "cellView": "form"
      },
      "source": [
        "#@title __Mount Google Drive and Install dependencies:__ { run: \"auto\" }\n",
        "from IPython.display import clear_output\n",
        "from google.colab import drive\n",
        "drive.mount('/content/drive', force_remount=True)\n",
        "clear_output()\n",
        "!echo \"Updating:\"\n",
        "!sudo apt-get update -y\n",
        "!sudo apt-get upgrade -y\n",
        "clear_output()\n",
        "!echo \"Installing Python:\"\n",
        "!sudo apt-get install python3.9\n",
        "!sudo update-alternatives --install /usr/bin/python3 python3 /usr/bin/python3.7 1\n",
        "!sudo update-alternatives --install /usr/bin/python3 python3 /usr/bin/python3.9 2\n",
        "clear_output()\n",
        "!apt install python3-pip\n",
        "!apt install python3.9-distutils\n",
        "!apt install aria2\n",
        "clear_output()\n",
        "!echo \"Installing Dependencies:\"\n",
        "!python3 -m pip install --upgrade setuptools\n",
        "!python3 -m pip install --upgrade pip\n",
        "!python3 -m pip install --upgrade distlib\n",
        "!python3 -m pip install --upgrade toml-cli\n",
        "!python3 -m pip install --upgrade yt-dlp\n",
        "!curl -O https://raw.githubusercontent.com/taskylizard/uwuwvdl/main/webdl.py\n",
        "!curl -O https://raw.githubusercontent.com/taskylizard/uwuwvdl/main/requirements.txt && python -m pip install -r requirements.txt\n",
        "clear_output()\n",
        "!echo \"Installing Dependencies:\"\n",
        "!curl -O https://www.bok.net/Bento4/binaries/Bento4-SDK-1-6-0-639.x86_64-unknown-linux.zip\n",
        "!unzip Bento4-SDK-1-6-0-639.x86_64-unknown-linux.zip\n",
        "!curl -O https://mkvtoolnix.download/appimage/MKVToolNix_GUI-62.0.0-x86_64.AppImage\n",
        "clear_output()\n",
        "!chmod u+rx MKVToolNix_GUI-62.0.0-x86_64.AppImage\n",
        "!ln -s MKVToolNix_GUI-62.0.0-x86_64.AppImage mkvmerge\n",
        "clear_output()\n",
        "!echo \"Setup complete!\"\n",
        "!./mkvmerge -V\n",
        "!echo \"----\"\n",
        "!yt-dlp --version\n",
        "!echo \"----\"\n",
        "!aria2c --version\n",
        "!echo \"----\""
      ],
      "execution_count": null,
      "outputs": []
    },
    {
      "cell_type": "code",
      "metadata": {
        "id": "cnxehZWX539h",
        "cellView": "form"
      },
      "source": [
        "#@title __WEB-DL Widevine decrypted content using parnex' script__ { run: \"auto\" }\n",
        "!python webdl.py -o test"
      ],
      "execution_count": null,
      "outputs": []
    }
  ]
}
