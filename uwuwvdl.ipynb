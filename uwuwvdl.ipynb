{
  "nbformat": 4,
  "nbformat_minor": 0,
  "metadata": {
    "colab": {
      "name": "uwuwvdl.ipynb",
      "provenance": []
    },
    "kernelspec": {
      "display_name": "Python 3",
      "name": "python3"
    },
    "language_info": {
      "name": "python"
    }
  },
  "cells": [
    {
      "cell_type": "code",
      "metadata": {
        "id": "G7B5HeMK1MjC",
        "cellView": "form"
      },
      "source": [
        "#@title __✦ Mount Google Drive and Install dependencies__\n",
        "from IPython.display import clear_output\n",
        "from google.colab import drive\n",
        "drive.mount('/content/drive', force_remount=True)\n",
        "clear_output()\n",
        "!echo \"Updating:\"\n",
        "!sudo apt-get update -y\n",
        "!sudo apt-get upgrade -y\n",
        "clear_output()\n",
        "!echo \"Installing Python:\"\n",
        "!sudo apt-get install python3.9\n",
        "!sudo update-alternatives --install /usr/bin/python3 python3 /usr/bin/python3.7 1\n",
        "!sudo update-alternatives --install /usr/bin/python3 python3 /usr/bin/python3.9 2\n",
        "clear_output()\n",
        "!apt install python3-pip\n",
        "!apt install python3.9-distutils\n",
        "!apt install aria2\n",
        "clear_output()\n",
        "!echo \"Installing Dependencies:\"\n",
        "!python3 -m pip install --upgrade setuptools\n",
        "!python3 -m pip install --upgrade pip\n",
        "!python3 -m pip install --upgrade distlib\n",
        "!python3 -m pip install --upgrade toml-cli\n",
        "!python3 -m pip install --upgrade yt-dlp\n",
        "!curl -O https://raw.githubusercontent.com/Ori5000/uwuwvdl/main/webdl.py\n",
        "!curl -O https://raw.githubusercontent.com/Ori5000/uwuwvdl/main/requirements.txt && python -m pip install -r requirements.txt\n",
        "clear_output()\n",
        "!echo \"Installing Dependencies:\"\n",
        "!curl -O https://www.bok.net/Bento4/binaries/Bento4-SDK-1-6-0-639.x86_64-unknown-linux.zip\n",
        "!unzip Bento4-SDK-1-6-0-639.x86_64-unknown-linux.zip\n",
        "!curl -O https://mkvtoolnix.download/appimage/MKVToolNix_GUI-62.0.0-x86_64.AppImage\n",
        "clear_output()\n",
        "!chmod u+rx MKVToolNix_GUI-62.0.0-x86_64.AppImage\n",
        "!ln -s MKVToolNix_GUI-62.0.0-x86_64.AppImage mkvmerge\n",
        "clear_output()\n",
        "!echo \"Setup complete!\"\n",
        "!./mkvmerge -V\n",
        "!echo \"----\"\n",
        "!yt-dlp --version\n",
        "!echo \"----\"\n",
        "!aria2c --version\n",
        "!echo \"----\""
      ],
      "execution_count": null,
      "outputs": []
    },
    {
      "cell_type": "code",
      "metadata": {
        "id": "40U1PxC5-iSQ",
        "cellView": "form"
      },
      "source": [
        "#@title __⬅️ Upload `keys.json`__\n",
        "from google.colab import files\n",
        "\n",
        "uploaded = files.upload()\n",
        "\n",
        "for fn in uploaded.keys():\n",
        "  print('Uploaded \"{name}\" successfully!'.format(\n",
        "      name=fn))"
      ],
      "execution_count": null,
      "outputs": []
    },
    {
      "cell_type": "code",
      "metadata": {
        "id": "cnxehZWX539h",
        "cellView": "form"
      },
      "source": [
        "#@title __⬅️ WEB-DL Widevine encrypted content__\n",
        "output = \"\"#@param {type:\"string\"}\n",
        "id = False #@param {type:\"boolean\"}\n",
        "if id == True:\n",
        "  !python webdl.py -o output -id\n",
        "else:\n",
        "  !python webdl.py -o output"
      ],
      "execution_count": null,
      "outputs": []
    },
    {
      "cell_type": "code",
      "metadata": {
        "id": "UMDUlkS5bmLk",
        "cellView": "form"
      },
      "source": [
        "#@title __⬅️ Move to Google Drive__\n",
        "source = \"/content/Example.mkv\"#@param {type:\"string\"}\n",
        "destination = \"/content/drive/Shared drives/SharedDrive1/Example.mkv\"#@param {type:\"string\"}\n",
        "\n",
        "import shutil\n",
        "shutil.move(source, destination)"
      ],
      "execution_count": null,
      "outputs": []
    },
    {
      "cell_type": "code",
      "metadata": {
        "id": "oodrDR-KJPsm",
        "cellView": "form"
      },
      "source": [
        "#@title __⬅️ MediaInfo__\n",
        "path = \"/content/drive/Shared drives/SharedDrive1/Example.mkv\" #@param {type:\"string\"}\n",
        "save_txt = False #@param {type:\"boolean\"}\n",
        "\n",
        "import os\n",
        "from IPython.display import clear_output \n",
        "!wget -q \"http://archive.ubuntu.com/ubuntu/pool/universe/libm/libmms/libmms0_0.6.4-2_amd64.deb\" \"https://mediaarea.net/download/binary/libzen0/0.4.39/libzen0v5_0.4.39-1_amd64.xUbuntu_18.04.deb\" \"https://mediaarea.net/download/binary/mediainfo/21.03/mediainfo_21.03-1_amd64.xUbuntu_18.04.deb\" \"https://mediaarea.net/download/binary/libmediainfo0/21.03/libmediainfo0v5_21.03-1_amd64.xUbuntu_18.04.deb\"\n",
        "!sudo dpkg -i /content/*.deb\n",
        "!rm -rf /content/*.deb\n",
        "clear_output()\n",
        "media = !mediainfo \"$path\"\n",
        "get_ipython().system_raw(\"\"\"mediainfo --LogFile=\"/root/.nfo\" \"$path\" \"\"\")\n",
        "with open('/root/.nfo', 'r') as file:\n",
        "    media = file.read()\n",
        "    media = media.replace(os.path.dirname(path)+\"/\", \"\")\n",
        "print(media)\n",
        "\n",
        "if save_txt == True:\n",
        "  txt = path.rpartition('.')[0] + \".txt\"\n",
        "  if os.path.exists(txt):\n",
        "    get_ipython().system_raw(\"rm -f '$txt'\")\n",
        "  with open(txt, 'a+') as file:\n",
        "    file.write(media)"
      ],
      "execution_count": null,
      "outputs": []
    }
  ]
}
